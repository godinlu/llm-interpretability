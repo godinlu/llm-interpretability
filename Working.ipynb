{
 "cells": [
  {
   "cell_type": "code",
   "execution_count": 6,
   "metadata": {},
   "outputs": [],
   "source": [
    "from typing import Callable, Dict, List, Any\n",
    "import pandas as pd\n",
    "import numpy as np\n",
    "import sqlite3\n",
    "from concurrent.futures import ThreadPoolExecutor\n",
    "from concurrent.futures._base import Future\n",
    "import os\n",
    "from string import ascii_uppercase\n",
    "import pickle\n",
    "import re\n",
    "from sql_extract import extract_lines, lapply, clean_sql_file, ref_dict, id_lines"
   ]
  },
  {
   "cell_type": "code",
   "execution_count": null,
   "metadata": {},
   "outputs": [],
   "source": [
    "def clean_sql_file(input_file_path: str, output_file_path: str):\n",
    "    input_file = open(input_file_path, 'r') \n",
    "    output_file = open(output_file_path, \"w\")\n",
    "    while True:\n",
    "        try:\n",
    "            line = input_file.readline()\n",
    "            line = line.replace(\"\\'\",\"#!\").replace(\"'\", \"\\\"\")\n",
    "            output_file.write(line)\n",
    "            if line == '':\n",
    "                break\n",
    "        except:\n",
    "            pass\n",
    "    input_file.close() \n",
    "    output_file.close()"
   ]
  },
  {
   "cell_type": "code",
   "execution_count": null,
   "metadata": {},
   "outputs": [],
   "source": [
    "ef clean_sql_file(input_file_path: str, output_file_path: str):\n",
    "    input_file = open(input_file_path, 'r') \n",
    "    output_file = open(output_file_path, \"w\")\n",
    "    while True:\n",
    "        try:\n",
    "            line = input_file.readline()\n",
    "            \n",
    "            output_file.write(line)\n",
    "            if line == '':\n",
    "                break\n",
    "        except:\n",
    "            pass\n",
    "    input_file.close() \n",
    "    output_file.close()"
   ]
  },
  {
   "cell_type": "code",
   "execution_count": 37,
   "metadata": {},
   "outputs": [
    {
     "data": {
      "text/plain": [
       "'\"esf'"
      ]
     },
     "execution_count": 37,
     "metadata": {},
     "output_type": "execute_result"
    }
   ],
   "source": [
    "\"\\\"esf\""
   ]
  },
  {
   "cell_type": "code",
   "execution_count": null,
   "metadata": {},
   "outputs": [],
   "source": [
    "data = pd.read_csv(\"Data/pairs_with_ratings.tsv\", sep=\"\\t\").drop(['uid'], axis=1)\n",
    "data"
   ]
  },
  {
   "cell_type": "code",
   "execution_count": null,
   "metadata": {},
   "outputs": [],
   "source": [
    "print(data.isna().sum())\n",
    "data.describe()"
   ]
  },
  {
   "cell_type": "markdown",
   "metadata": {},
   "source": [
    "# SQL data\n",
    "## Loading the data"
   ]
  },
  {
   "cell_type": "code",
   "execution_count": 2,
   "metadata": {},
   "outputs": [],
   "source": [
    "with open('tables.pkl', 'rb') as f:\n",
    "    tables = pickle.load(f) # deserialize using load()"
   ]
  },
  {
   "cell_type": "markdown",
   "metadata": {},
   "source": [
    "## Cleaning the data"
   ]
  },
  {
   "cell_type": "code",
   "execution_count": 3,
   "metadata": {},
   "outputs": [
    {
     "name": "stdout",
     "output_type": "stream",
     "text": [
      "An error occurred while executing the SQL script: near \"s\": syntax error\n",
      "\n",
      "##############################################################\n",
      "\n",
      "Nb errors: 1\n"
     ]
    }
   ],
   "source": [
    "import sqlite3\n",
    "\n",
    "# Step 1: Specify the path to the .sql file and the .db file\n",
    "sql_file_path = \"unfun_2023-02-02_test.sql\"  # The .sql file containing SQL commands\n",
    "db_file_path = 'new_test.db'  # The SQLite .db file to be created\n",
    "nb_errors = 0\n",
    "# Step 2: Connect to SQLite (it will create the .db file if it doesn't exist)\n",
    "conn = sqlite3.connect(db_file_path)\n",
    "cursor = conn.cursor()\n",
    "\n",
    "# Step 3: Read the .sql file containing SQL commands\n",
    "try:\n",
    "    with open(sql_file_path, 'r') as sql_file:\n",
    "        sql_script = sql_file.read()\n",
    "\n",
    "    # Step 4: Execute the SQL script to create tables, insert data, etc.\n",
    "    cursor.executescript(sql_script)\n",
    "    print(\"SQL script executed successfully, and the SQLite database has been created.\")\n",
    "except FileNotFoundError as e:\n",
    "    print(f\"SQL file not found: {e}\")\n",
    "except sqlite3.Error as e:\n",
    "    print(f\"An error occurred while executing the SQL script: {e}\")\n",
    "    nb_errors+=1\n",
    "\n",
    "finally:\n",
    "    # Step 5: Commit changes and close the connection\n",
    "    conn.commit()\n",
    "    conn.close()\n",
    "print(\"\\n##############################################################\\n\")\n",
    "print(f\"Nb errors: {nb_errors}\")\n"
   ]
  },
  {
   "cell_type": "code",
   "execution_count": 4,
   "metadata": {},
   "outputs": [
    {
     "name": "stdout",
     "output_type": "stream",
     "text": [
      "% 144065 | O: 0 | U: 0 | R: 0\n",
      "\n"
     ]
    }
   ],
   "source": [
    "# Extracting all sql commands for relevent tables\n",
    "commands = {\n",
    "\"create_original\" : [],\n",
    "\"lines_original\" : [],\n",
    "\"create_unfunned\" : [],\n",
    "\"lines_unfunned\" : [],\n",
    "\"create_ratings\" : [],\n",
    "\"lines_ratings\" : []\n",
    "}\n",
    "cursor_list = list(commands.keys())\n",
    "cursor = len(cursor_list)\n",
    "idx = 0\n",
    "with open(\"unfun_2023-02-02_test.sql\", 'r') as file:\n",
    "    for _ in range(10):\n",
    "        next(file)\n",
    "        idx+=1\n",
    "        print(idx,end=\"\\r\")\n",
    "    for line in file:\n",
    "        if line[:40].find(\"CREATE TABLE `headlines_original`\") != -1:\n",
    "            cursor = 0\n",
    "        elif line[:40].find(\"INSERT INTO `headlines_original`\") != -1:\n",
    "            cursor = 1\n",
    "        elif line[:40].find(\"CREATE TABLE `headlines_unfunned`\") != -1:\n",
    "            cursor = 2\n",
    "        elif line[:40].find(\"INSERT INTO `headlines_unfunned`\") != -1:\n",
    "            cursor = 3\n",
    "        elif line[:40].find(\"CREATE TABLE `ratings`\") != -1:\n",
    "            cursor = 4\n",
    "        elif line[:40].find(\"INSERT INTO `ratings`\") != -1:\n",
    "            cursor = 5\n",
    "        elif line == \"\\n\":\n",
    "            cursor = len(cursor_list)\n",
    "        if cursor != len(cursor_list):\n",
    "            commands[cursor_list[cursor]].append(line)\n",
    "        idx+=1\n",
    "        print(f\"% {idx} | O: {len(commands[\"lines_original\"])} | U: {len(commands[\"lines_unfunned\"])} | R: {len(commands[\"lines_ratings\"])}\",end=\"\\r\")\n",
    "print(\"\\n\")"
   ]
  },
  {
   "cell_type": "code",
   "execution_count": null,
   "metadata": {},
   "outputs": [],
   "source": [
    "tables[\"lines_original\"]"
   ]
  },
  {
   "cell_type": "code",
   "execution_count": 14,
   "metadata": {},
   "outputs": [
    {
     "data": {
      "text/plain": [
       "array(['lines_original', 'lines_unfunned', 'lines_ratings'], dtype='<U15')"
      ]
     },
     "execution_count": 14,
     "metadata": {},
     "output_type": "execute_result"
    }
   ],
   "source": [
    "np.array(list(tables.keys()))[[\"line\" in string for string in list(tables.keys())]]"
   ]
  },
  {
   "cell_type": "code",
   "execution_count": null,
   "metadata": {},
   "outputs": [],
   "source": [
    "(\"\".join(tables[\"lines_original\"])).split(\";\")"
   ]
  },
  {
   "cell_type": "code",
   "execution_count": 16,
   "metadata": {},
   "outputs": [
    {
     "data": {
      "text/plain": [
       "779"
      ]
     },
     "execution_count": 16,
     "metadata": {},
     "output_type": "execute_result"
    }
   ],
   "source": [
    "(\"\".join(tables[\"lines_original\"])).split(\");\")[5].find(\"seriously\")"
   ]
  },
  {
   "cell_type": "code",
   "execution_count": 22,
   "metadata": {},
   "outputs": [
    {
     "data": {
      "text/plain": [
       "\" chief: al qaeda \\\\'seriously degraded\\\\' \""
      ]
     },
     "execution_count": 22,
     "metadata": {},
     "output_type": "execute_result"
    }
   ],
   "source": [
    "(\"\".join(tables[\"lines_original\"])).split(\");\")[5][760:800]"
   ]
  },
  {
   "cell_type": "code",
   "execution_count": 9,
   "metadata": {},
   "outputs": [
    {
     "name": "stdout",
     "output_type": "stream",
     "text": [
      "An error occurred: table \"headlines_original\" already exists\n",
      "An error occurred: table \"headlines_unfunned\" already exists\n",
      "An error occurred: table \"ratings\" already exists\n",
      "An error occurred: during lines_original input, in INSERT: 3, near \"group\": syntax error\n",
      "An error occurred: during lines_original input, in INSERT: 4, near \"brain\": syntax error\n",
      "An error occurred: during lines_original input, in INSERT: 5, near \"ex\": syntax error\n",
      "An error occurred: during lines_original input, in INSERT: 6, near \"cat\": syntax error\n",
      "An error occurred: during lines_original input, in INSERT: 7, near \"should\": syntax error\n",
      "An error occurred: during lines_original input, in INSERT: 8, near \"jami\": syntax error\n",
      "An error occurred: during lines_original input, in INSERT: 11, near \"russian\": syntax error\n",
      "An error occurred: during lines_original input, in INSERT: 12, near \"murray\": syntax error\n",
      "An error occurred: during lines_original input, in INSERT: 13, near \"obama\": syntax error\n",
      "An error occurred: during lines_original input, in INSERT: 14, near \"fingerprints\": syntax error\n",
      "An error occurred: during lines_original input, in INSERT: 15, near \"united\": syntax error\n",
      "An error occurred: during lines_original input, in INSERT: 17, near \"usa\": syntax error\n",
      "An error occurred: during lines_original input, in INSERT: 19, near \"allen\": syntax error\n",
      "An error occurred: during lines_original input, in INSERT: 20, near \"georgia\": syntax error\n",
      "An error occurred: during lines_original input, in INSERT: 21, near \"north\": syntax error\n",
      "An error occurred: during lines_original input, in INSERT: 22, near \"tom\": syntax error\n",
      "An error occurred: during lines_original input, in INSERT: 24, near \"apple\": syntax error\n",
      "An error occurred: during lines_original input, in INSERT: 25, near \"why\": syntax error\n",
      "An error occurred: during lines_original input, in INSERT: 26, near \"quake\": syntax error\n",
      "An error occurred: during lines_original input, in INSERT: 34, near \"joe\": syntax error\n",
      "An error occurred: during lines_original input, in INSERT: 37, near \"alances\": syntax error\n",
      "An error occurred: during lines_original input, in INSERT: 73, near \",\": syntax error\n",
      "An error occurred: during lines_original input, in INSERT: 77, near \"ack\": syntax error\n",
      "An error occurred: during lines_original input, in INSERT: 81, near \"'http://www.theonion.com/articles/cvs-to-become-first-major-drugstore-to-stop-sellin,35186/'\": syntax error\n",
      "An error occurred: during lines_original input, in INSERT: 83, near \")\": syntax error\n",
      "An error occurred: during lines_unfunned input, in INSERT: 0, unrecognized token: \"8c9cb52ad\"\n",
      "An error occurred: during lines_unfunned input, in INSERT: 1, near \"7\": syntax error\n",
      "An error occurred: during lines_unfunned input, in INSERT: 14, unrecognized token: \"292ff3a077f060eb9a\"\n",
      "An error occurred: during lines_unfunned input, in INSERT: 37, near \"21682\": syntax error\n",
      "An error occurred: during lines_unfunned input, in INSERT: 66, unrecognized token: \"4f181c1d63c\"\n",
      "An error occurred: during lines_unfunned input, in INSERT: 78, near \")\": syntax error\n",
      "An error occurred: during lines_ratings input, in INSERT: 126, near \")\": syntax error\n",
      "\n",
      "##############################################################\n",
      "\n",
      "Total number of unexecuted INSERT comands: 32\n",
      "- original unexecuted INSERT: 25\n",
      "- unfunned unexecuted INSERT: 6\n",
      "- ratings unexecuted INSERT: 1\n"
     ]
    }
   ],
   "source": [
    "with open(\"new_tab_out.pkl\", 'rb') as f:\n",
    "    tables = pickle.load(f) # deserialize using load()\n",
    "errors = {\"lines_original\": [],\n",
    "          \"lines_unfunned\": [],\n",
    "          \"lines_ratings\": []}\n",
    "conn = sqlite3.connect(\"test.db\")\n",
    "cursor = conn.cursor()\n",
    "nb_errors = 0\n",
    "for table in np.array(list(tables.keys()))[[\"create\" in string for string in list(tables.keys())]]:\n",
    "    try:\n",
    "        cursor.executescript((\"\".join(tables[table])).replace(\"ENGINE=InnoDB DEFAULT CHARSET=utf8\", \"\").replace(\"\\n\",\"\"))\n",
    "        print(\"Script executed successfully.\")\n",
    "    except sqlite3.Error as e:\n",
    "        print(f\"An error occurred: {e}\")\n",
    "for lines in np.array(list(tables.keys()))[[\"line\" in string for string in list(tables.keys())]]:\n",
    "        inserts_comands = (\"\".join(tables[lines])).split(\");\")\n",
    "        for insert, idx in zip(inserts_comands, range(len(inserts_comands))):\n",
    "            try:\n",
    "                cursor.executescript((insert+\");\").replace(\"\\\\'\",\"''\").replace('\\\\\"', '\"'))\n",
    "                #print(\"Script executed successfully.\")\n",
    "            except sqlite3.Error as e:\n",
    "                nb_errors+=1\n",
    "                errors[lines].append([idx, re.search('\"(.+?)\"', str(e)).group(1)])\n",
    "                print(f\"An error occurred: during {lines} input, in INSERT: {idx}, {e}\")\n",
    "                #print((insert+\";\").replace(\"\\\\'\",\"''\").replace('\\\\\"', '\"'))\n",
    "print(\"\\n##############################################################\\n\")\n",
    "print(f\"Total number of unexecuted INSERT comands: {nb_errors}\")\n",
    "print(f\"- original unexecuted INSERT: {len(errors[\"lines_original\"])}\")\n",
    "print(f\"- unfunned unexecuted INSERT: {len(errors[\"lines_unfunned\"])}\")\n",
    "print(f\"- ratings unexecuted INSERT: {len(errors[\"lines_ratings\"])}\")\n"
   ]
  },
  {
   "cell_type": "code",
   "execution_count": 17,
   "metadata": {},
   "outputs": [
    {
     "data": {
      "text/plain": [
       "' `headlines_original'"
      ]
     },
     "execution_count": 17,
     "metadata": {},
     "output_type": "execute_result"
    }
   ],
   "source": [
    "idx = 0\n",
    "tab_ref = \"lines_original\"\n",
    "pos = (\"\".join(tables[tab_ref])).split(\");\")[errors[tab_ref][idx][0]].find(errors[tab_ref][idx][1])\n",
    "(\"\".join(tables[tab_ref])).split(\");\")[errors[tab_ref][idx][0]][pos-10:800]"
   ]
  },
  {
   "cell_type": "code",
   "execution_count": 28,
   "metadata": {},
   "outputs": [
    {
     "data": {
      "text/plain": [
       "'NSERT INTO `headlines_original` (`id`, `'"
      ]
     },
     "execution_count": 28,
     "metadata": {},
     "output_type": "execute_result"
    }
   ],
   "source": [
    "(\"\".join(tables[tab_ref])).split(\");\")[0][pos-20:pos+20]"
   ]
  },
  {
   "cell_type": "code",
   "execution_count": null,
   "metadata": {},
   "outputs": [],
   "source": [
    "(\"\".join(tables[tab_ref])).split(\";\")[0].split(\"\\n\")"
   ]
  },
  {
   "cell_type": "code",
   "execution_count": 5,
   "metadata": {},
   "outputs": [],
   "source": [
    "SQL_con_2023 = sqlite3.connect(\"test.db\")\n",
    "cursor_2023 = SQL_con_2023.cursor()"
   ]
  },
  {
   "cell_type": "code",
   "execution_count": 21,
   "metadata": {},
   "outputs": [],
   "source": [
    "get_list_tables = \"\"\"SELECT name FROM sqlite_master WHERE type='table';\"\"\"\n",
    "request = \"\"\" SELECT DISTINCT O.id, O.title, U.title, R.rating, U.date\n",
    "              FROM headlines_original O, headlines_unfunned U, ratings R\n",
    "              WHERE O.id = U.original_headline_id \n",
    "              and R.id = O.id\n",
    "              and U.title is not null;\n",
    "\n",
    "\"\"\"\n",
    "cursor_2023.execute(request)\n",
    "result = cursor_2023.fetchall()"
   ]
  },
  {
   "cell_type": "code",
   "execution_count": 20,
   "metadata": {},
   "outputs": [
    {
     "data": {
      "text/plain": [
       "10452"
      ]
     },
     "execution_count": 20,
     "metadata": {},
     "output_type": "execute_result"
    }
   ],
   "source": [
    "len(result)"
   ]
  },
  {
   "cell_type": "code",
   "execution_count": 88,
   "metadata": {},
   "outputs": [
    {
     "data": {
      "text/plain": [
       "'CREATE TABLE `ratings` (  `id` int(11) NOT NULL,  `uid` varchar(95) NOT NULL,  `batch_id` varchar(32) NOT NULL,  `headline_id` int(11) NOT NULL,  `headline_type` varchar(32) NOT NULL,  `date` datetime NOT NULL,  `position` int(11) NOT NULL,  `rating` double DEFAULT NULL) ;'"
      ]
     },
     "execution_count": 88,
     "metadata": {},
     "output_type": "execute_result"
    }
   ],
   "source": [
    "(\"\".join(tables[\"create_ratings\"])).replace(\"ENGINE=InnoDB DEFAULT CHARSET=utf8\", \"\").replace(\"\\n\",\"\")"
   ]
  },
  {
   "cell_type": "code",
   "execution_count": 17,
   "metadata": {},
   "outputs": [],
   "source": [
    "import linecache \n",
    "particular_line = linecache.getline(\"unfun_2023-02-02.sql\", 50809) \n"
   ]
  },
  {
   "cell_type": "code",
   "execution_count": 20,
   "metadata": {},
   "outputs": [
    {
     "data": {
      "text/plain": [
       "'(9812, \"internacional - cia \"contrat?\" a blackwater contra al-qaeda\", \"real\", \"bbc.co.uk\", \"http://bbc.co.uk/mundo/internacional/2009/08/090820_1200_eeuu_cia_blackwater_ms.shtml\", \"2009-08-20 15:01:00\"),\\n'"
      ]
     },
     "execution_count": 20,
     "metadata": {},
     "output_type": "execute_result"
    }
   ],
   "source": [
    "particular_line.replace('\\\\\"', '\"')"
   ]
  },
  {
   "cell_type": "code",
   "execution_count": null,
   "metadata": {},
   "outputs": [],
   "source": [
    "replacement_dict = {\"â€˜\" : \"'\",\n",
    "                    \"â€™\" : \"'\"}"
   ]
  },
  {
   "cell_type": "code",
   "execution_count": 9,
   "metadata": {},
   "outputs": [],
   "source": [
    "starts = np.where(lines_types == ref_dict[\"Start_original\"])[0]\n",
    "ends = np.where(lines_types == ref_dict[\"Comand_end\"])[0]"
   ]
  },
  {
   "cell_type": "code",
   "execution_count": 13,
   "metadata": {},
   "outputs": [
    {
     "data": {
      "text/plain": [
       "np.str_('(24989),\\n')"
      ]
     },
     "execution_count": 13,
     "metadata": {},
     "output_type": "execute_result"
    }
   ],
   "source": [
    "lines[70636]"
   ]
  },
  {
   "cell_type": "code",
   "execution_count": 10,
   "metadata": {},
   "outputs": [
    {
     "data": {
      "text/plain": [
       "np.int64(70363)"
      ]
     },
     "execution_count": 10,
     "metadata": {},
     "output_type": "execute_result"
    }
   ],
   "source": [
    "min(ends[ends > max(starts)])"
   ]
  },
  {
   "cell_type": "code",
   "execution_count": 45,
   "metadata": {},
   "outputs": [],
   "source": [
    "temp = ends[ends > min(starts)]\n",
    "#temp = temp[temp < np.where(temp == min(ends[ends > max(starts)]))[0]]\n"
   ]
  },
  {
   "cell_type": "code",
   "execution_count": 44,
   "metadata": {},
   "outputs": [
    {
     "data": {
      "text/plain": [
       "np.int64(70363)"
      ]
     },
     "execution_count": 44,
     "metadata": {},
     "output_type": "execute_result"
    }
   ],
   "source": [
    "min(ends[ends > max(starts)])"
   ]
  },
  {
   "cell_type": "code",
   "execution_count": null,
   "metadata": {},
   "outputs": [],
   "source": [
    "temp[:np.where(temp == min(ends[ends > max(starts)]))[0][0]+1]"
   ]
  },
  {
   "cell_type": "code",
   "execution_count": 38,
   "metadata": {},
   "outputs": [
    {
     "data": {
      "text/plain": [
       "array([], dtype=int64)"
      ]
     },
     "execution_count": 38,
     "metadata": {},
     "output_type": "execute_result"
    }
   ],
   "source": [
    "temp"
   ]
  },
  {
   "cell_type": "code",
   "execution_count": null,
   "metadata": {},
   "outputs": [],
   "source": [
    "(ends > min(starts)) and (ends < max(starts))"
   ]
  },
  {
   "cell_type": "code",
   "execution_count": null,
   "metadata": {},
   "outputs": [],
   "source": []
  },
  {
   "cell_type": "code",
   "execution_count": 129,
   "metadata": {},
   "outputs": [
    {
     "data": {
      "text/plain": [
       "np.str_(\"(29266, 'American Airlines Drops Bereavement Fares', 'real', 'theonion.com', 'http://www.theonion.com/articles/american-airlines-drops-bereavement-fares,35438/', '2014-03-05 00:00:00');\\n\")"
      ]
     },
     "execution_count": 129,
     "metadata": {},
     "output_type": "execute_result"
    }
   ],
   "source": [
    "lines[70185]"
   ]
  },
  {
   "cell_type": "code",
   "execution_count": 134,
   "metadata": {},
   "outputs": [],
   "source": [
    "def extract_entires(lines_type_array: List[int], table_ref: str, ref_dict: Dict[str, int]) -> List[int]:\n",
    "    nb_inserts = np.where(lines_type_array == ref_dict[table_ref])[0] # Get all the lines for the insert comand\n",
    "    out = np.array([], dtype=int)\n",
    "    for idx in range(len(nb_inserts)-1):\n",
    "        start = nb_inserts[idx]\n",
    "        end = nb_inserts[idx+1]\n",
    "        print(f\"start: {start}, end: {end}\")\n",
    "        entries = np.where(lines_type_array == ref_dict[\"Entry\"])[0]\n",
    "        out = np.append(out, entries[(entries > start) == (entries < end)])\n",
    "        out = np.append(out, entries[end])\n",
    "    return out\n",
    "        "
   ]
  },
  {
   "cell_type": "code",
   "execution_count": null,
   "metadata": {},
   "outputs": [],
   "source": [
    "test = extract_entires(lines_types, \"Start_original\", ref_dict)"
   ]
  },
  {
   "cell_type": "code",
   "execution_count": 136,
   "metadata": {},
   "outputs": [
    {
     "data": {
      "text/plain": [
       "array([\"(9332, 'sunday feature: a brief history of cunning', 'real', 'bbc.co.uk', 'http://bbc.co.uk/go/rss/-/iplayer/episode/b00cx18z', '2008-08-13 00:06:38'),\\n\",\n",
       "       \"(9333, 'olympics - all programmes - page 1', 'real', 'bbc.co.uk', 'http://bbc.co.uk/go/rss/-/iplayer/categories/olympics', '2008-08-13 00:06:39'),\\n\",\n",
       "       \"(9334, 'house of saddam: episode 3', 'real', 'bbc.co.uk', 'http://bbc.co.uk/go/rss/-/iplayer/episode/b00d1y00', '2008-08-15 17:24:00'),\\n\",\n",
       "       ...,\n",
       "       \"(29264, 'New Theme Park To Feature Model Of Noahâ€™s Ark', 'real', 'theonion.com', 'http://www.theonion.com/articles/new-theme-park-to-feature-model-of-noahs-ark,35429/', '2014-03-03 00:00:00'),\\n\",\n",
       "       \"(29265, 'Pope Francis Drops F-Bomb During Vatican Blessing', 'real', 'theonion.com', 'http://www.theonion.com/articles/pope-francis-drops-fbomb-during-vatican-blessing,35437/', '2014-03-04 00:00:00'),\\n\",\n",
       "       \"(268, '504504090138', '8af62193b5bb39419aa2a5bf10591ba5', 22494, NULL, '2014-08-13 18:47:35', NULL),\\n\"],\n",
       "      dtype='<U652')"
      ]
     },
     "execution_count": 136,
     "metadata": {},
     "output_type": "execute_result"
    }
   ],
   "source": [
    "lines[test]"
   ]
  },
  {
   "cell_type": "code",
   "execution_count": 106,
   "metadata": {},
   "outputs": [
    {
     "data": {
      "text/plain": [
       "array([50328, 50329, 50330, ..., 70179, 70180, 70916])"
      ]
     },
     "execution_count": 106,
     "metadata": {},
     "output_type": "execute_result"
    }
   ],
   "source": [
    "test"
   ]
  },
  {
   "cell_type": "code",
   "execution_count": 108,
   "metadata": {},
   "outputs": [
    {
     "data": {
      "text/plain": [
       "array(['-- phpMyAdmin SQL Dump\\n', '-- version 4.9.7\\n',\n",
       "       '-- https://www.phpmyadmin.net/\\n', ..., '\\n', '--\\n', ''],\n",
       "      dtype='<U652')"
      ]
     },
     "execution_count": 108,
     "metadata": {},
     "output_type": "execute_result"
    }
   ],
   "source": [
    "lines"
   ]
  },
  {
   "cell_type": "code",
   "execution_count": null,
   "metadata": {},
   "outputs": [],
   "source": [
    "nb_inserts = np.where(lines_types == ref_dict[\"Start_original\"]) # Get all the lines for the insert comand\n",
    "print(nb_inserts)"
   ]
  },
  {
   "cell_type": "code",
   "execution_count": 70,
   "metadata": {},
   "outputs": [],
   "source": [
    "out = []\n",
    "for idx in range(len(nb_inserts)-1):\n",
    "    start = nb_inserts[idx]\n",
    "    end = nb_inserts[idx+1]\n",
    "    print(f\"start: {start}, and: {end}\")\n",
    "    entries = np.where(lines_types == ref_dict[\"Entry\"])[0]\n",
    "    print(entries)\n",
    "    out.extend(entries[(entries > start) == (entries < end)])"
   ]
  },
  {
   "cell_type": "code",
   "execution_count": 72,
   "metadata": {},
   "outputs": [
    {
     "data": {
      "text/plain": [
       "1"
      ]
     },
     "execution_count": 72,
     "metadata": {},
     "output_type": "execute_result"
    }
   ],
   "source": [
    "len(nb_inserts)"
   ]
  },
  {
   "cell_type": "code",
   "execution_count": 71,
   "metadata": {},
   "outputs": [
    {
     "data": {
      "text/plain": [
       "range(0, 0)"
      ]
     },
     "execution_count": 71,
     "metadata": {},
     "output_type": "execute_result"
    }
   ],
   "source": [
    "range(len(nb_inserts)-1)"
   ]
  },
  {
   "cell_type": "code",
   "execution_count": 64,
   "metadata": {},
   "outputs": [
    {
     "data": {
      "text/plain": [
       "298"
      ]
     },
     "execution_count": 64,
     "metadata": {},
     "output_type": "execute_result"
    }
   ],
   "source": [
    "entries = np.where(lines_types == ref_dict[\"Entry\"])[0]\n",
    "len(entries[(entries > 50327) == (entries < 50627)])"
   ]
  },
  {
   "cell_type": "code",
   "execution_count": 44,
   "metadata": {},
   "outputs": [
    {
     "ename": "ValueError",
     "evalue": "The truth value of an array with more than one element is ambiguous. Use a.any() or a.all()",
     "output_type": "error",
     "traceback": [
      "\u001b[1;31m---------------------------------------------------------------------------\u001b[0m",
      "\u001b[1;31mValueError\u001b[0m                                Traceback (most recent call last)",
      "Cell \u001b[1;32mIn[44], line 1\u001b[0m\n\u001b[1;32m----> 1\u001b[0m \u001b[43mentries\u001b[49m\u001b[43m \u001b[49m\u001b[38;5;241;43m>\u001b[39;49m\u001b[43m \u001b[49m\u001b[38;5;241;43m50327\u001b[39;49m\u001b[43m \u001b[49m\u001b[38;5;129;43;01mand\u001b[39;49;00m\u001b[43m \u001b[49m\u001b[43mentries\u001b[49m\u001b[43m \u001b[49m\u001b[38;5;241;43m<\u001b[39;49m\u001b[43m \u001b[49m\u001b[38;5;241;43m50627\u001b[39;49m\n",
      "\u001b[1;31mValueError\u001b[0m: The truth value of an array with more than one element is ambiguous. Use a.any() or a.all()"
     ]
    }
   ],
   "source": [
    "(entries > 50327 and entries < 50627"
   ]
  },
  {
   "cell_type": "code",
   "execution_count": 48,
   "metadata": {},
   "outputs": [],
   "source": [
    "test = np.array([1,2,3,4,5,6,7,8,9,10])"
   ]
  },
  {
   "cell_type": "code",
   "execution_count": 60,
   "metadata": {},
   "outputs": [
    {
     "data": {
      "text/plain": [
       "array([False,  True,  True,  True,  True,  True,  True, False, False,\n",
       "       False])"
      ]
     },
     "execution_count": 60,
     "metadata": {},
     "output_type": "execute_result"
    }
   ],
   "source": [
    "(test > 1) == (test < 8)"
   ]
  },
  {
   "cell_type": "code",
   "execution_count": 56,
   "metadata": {},
   "outputs": [
    {
     "ename": "ValueError",
     "evalue": "The truth value of an array with more than one element is ambiguous. Use a.any() or a.all()",
     "output_type": "error",
     "traceback": [
      "\u001b[1;31m---------------------------------------------------------------------------\u001b[0m",
      "\u001b[1;31mValueError\u001b[0m                                Traceback (most recent call last)",
      "Cell \u001b[1;32mIn[56], line 1\u001b[0m\n\u001b[1;32m----> 1\u001b[0m (test \u001b[38;5;241m>\u001b[39m \u001b[38;5;241m1\u001b[39m \u001b[38;5;241m&\u001b[39m test \u001b[38;5;241m<\u001b[39m \u001b[38;5;241m8\u001b[39m)\u001b[38;5;241m.\u001b[39many()\n",
      "\u001b[1;31mValueError\u001b[0m: The truth value of an array with more than one element is ambiguous. Use a.any() or a.all()"
     ]
    }
   ],
   "source": [
    "(test > 1 & test < 8).any()"
   ]
  },
  {
   "cell_type": "code",
   "execution_count": 28,
   "metadata": {},
   "outputs": [
    {
     "data": {
      "text/plain": [
       "(array([59738, 68013, 69084, 70150, 70756, 71489, 76271, 83666, 93156]),)"
      ]
     },
     "execution_count": 28,
     "metadata": {},
     "output_type": "execute_result"
    }
   ],
   "source": [
    "np.where(lines == \"ERROR\")"
   ]
  },
  {
   "cell_type": "code",
   "execution_count": 90,
   "metadata": {},
   "outputs": [
    {
     "data": {
      "text/plain": [
       "21"
      ]
     },
     "execution_count": 90,
     "metadata": {},
     "output_type": "execute_result"
    }
   ],
   "source": [
    "len(\"INSERT INTO `ratings`\")"
   ]
  },
  {
   "cell_type": "code",
   "execution_count": 56,
   "metadata": {},
   "outputs": [],
   "source": [
    "test= lapply(filter_line, lines)"
   ]
  },
  {
   "cell_type": "code",
   "execution_count": 36,
   "metadata": {},
   "outputs": [
    {
     "name": "stdout",
     "output_type": "stream",
     "text": [
      "[2. 2. 2. 2. 2. 2. 2. 2. 2. 2.]\n"
     ]
    }
   ],
   "source": [
    "print(out)"
   ]
  },
  {
   "cell_type": "code",
   "execution_count": null,
   "metadata": {},
   "outputs": [],
   "source": [
    "def filter_line(line: str):\n",
    "    if line[0] not in ascii_uppercase + '(':\n",
    "        return \"\"\n",
    "    return line\n",
    "\n",
    "test= apply_function_concurrently(lines[:5], filter_line)\n"
   ]
  },
  {
   "cell_type": "code",
   "execution_count": 16,
   "metadata": {},
   "outputs": [
    {
     "ename": "UnicodeDecodeError",
     "evalue": "'charmap' codec can't decode byte 0x9d in position 1804: character maps to <undefined>",
     "output_type": "error",
     "traceback": [
      "\u001b[1;31m---------------------------------------------------------------------------\u001b[0m",
      "\u001b[1;31mUnicodeDecodeError\u001b[0m                        Traceback (most recent call last)",
      "Cell \u001b[1;32mIn[16], line 5\u001b[0m\n\u001b[0;32m      2\u001b[0m flag \u001b[38;5;241m=\u001b[39m\u001b[38;5;28;01mFalse\u001b[39;00m\n\u001b[0;32m      3\u001b[0m \u001b[38;5;28;01mwith\u001b[39;00m \u001b[38;5;28mopen\u001b[39m(\u001b[38;5;124m'\u001b[39m\u001b[38;5;124munfun_2023-02-02.txt\u001b[39m\u001b[38;5;124m'\u001b[39m) \u001b[38;5;28;01mas\u001b[39;00m file:\n\u001b[1;32m----> 5\u001b[0m \u001b[43m    \u001b[49m\u001b[38;5;28;43;01mfor\u001b[39;49;00m\u001b[43m \u001b[49m\u001b[43mline\u001b[49m\u001b[43m \u001b[49m\u001b[38;5;129;43;01min\u001b[39;49;00m\u001b[43m \u001b[49m\u001b[43mfile\u001b[49m\u001b[43m:\u001b[49m\n\u001b[0;32m      6\u001b[0m \u001b[43m        \u001b[49m\u001b[38;5;28;43;01mif\u001b[39;49;00m\u001b[43m \u001b[49m\u001b[38;5;129;43;01mnot\u001b[39;49;00m\u001b[43m \u001b[49m\u001b[43mflag\u001b[49m\u001b[43m:\u001b[49m\n\u001b[0;32m      7\u001b[0m \u001b[43m            \u001b[49m\u001b[38;5;28;43;01mif\u001b[39;49;00m\u001b[43m \u001b[49m\u001b[43mline\u001b[49m\u001b[38;5;241;43m.\u001b[39;49m\u001b[43mfind\u001b[49m\u001b[43m(\u001b[49m\u001b[38;5;124;43m\"\u001b[39;49m\u001b[38;5;124;43mINSERT INTO `batches` (`id`, `uid`, `date`, `http_user_agent`, `ip_address`) VALUES\u001b[39;49m\u001b[38;5;124;43m\"\u001b[39;49m\u001b[43m)\u001b[49m\u001b[43m:\u001b[49m\n",
      "File \u001b[1;32m~\\AppData\\Local\\Programs\\Python\\Python312\\Lib\\encodings\\cp1252.py:23\u001b[0m, in \u001b[0;36mIncrementalDecoder.decode\u001b[1;34m(self, input, final)\u001b[0m\n\u001b[0;32m     22\u001b[0m \u001b[38;5;28;01mdef\u001b[39;00m \u001b[38;5;21mdecode\u001b[39m(\u001b[38;5;28mself\u001b[39m, \u001b[38;5;28minput\u001b[39m, final\u001b[38;5;241m=\u001b[39m\u001b[38;5;28;01mFalse\u001b[39;00m):\n\u001b[1;32m---> 23\u001b[0m     \u001b[38;5;28;01mreturn\u001b[39;00m \u001b[43mcodecs\u001b[49m\u001b[38;5;241;43m.\u001b[39;49m\u001b[43mcharmap_decode\u001b[49m\u001b[43m(\u001b[49m\u001b[38;5;28;43minput\u001b[39;49m\u001b[43m,\u001b[49m\u001b[38;5;28;43mself\u001b[39;49m\u001b[38;5;241;43m.\u001b[39;49m\u001b[43merrors\u001b[49m\u001b[43m,\u001b[49m\u001b[43mdecoding_table\u001b[49m\u001b[43m)\u001b[49m[\u001b[38;5;241m0\u001b[39m]\n",
      "\u001b[1;31mUnicodeDecodeError\u001b[0m: 'charmap' codec can't decode byte 0x9d in position 1804: character maps to <undefined>"
     ]
    }
   ],
   "source": [
    "\n",
    "lines = []\n",
    "flag =False\n",
    "with open('unfun_2023-02-02.txt') as file:\n",
    "\n",
    "    for line in file:\n",
    "        if not flag:\n",
    "            if line.find(\"INSERT INTO `batches` (`id`, `uid`, `date`, `http_user_agent`, `ip_address`) VALUES\"):\n",
    "                flag = True\n",
    "        if flag:\n",
    "            try:\n",
    "                lines.append(line)\n",
    "            except:\n",
    "                lines.append(\"ERROR\")\n"
   ]
  }
 ],
 "metadata": {
  "kernelspec": {
   "display_name": ".venv",
   "language": "python",
   "name": "python3"
  },
  "language_info": {
   "codemirror_mode": {
    "name": "ipython",
    "version": 3
   },
   "file_extension": ".py",
   "mimetype": "text/x-python",
   "name": "python",
   "nbconvert_exporter": "python",
   "pygments_lexer": "ipython3",
   "version": "3.12.0"
  }
 },
 "nbformat": 4,
 "nbformat_minor": 2
}
